{
 "cells": [
  {
   "cell_type": "code",
   "execution_count": 1,
   "id": "e7e21e51-2b08-4405-8774-8c2d9ac5faba",
   "metadata": {},
   "outputs": [],
   "source": [
    "#1. Import Libraries"
   ]
  },
  {
   "cell_type": "code",
   "execution_count": 2,
   "id": "fd064892-3a25-4f6b-916c-ecdd7df0075e",
   "metadata": {},
   "outputs": [],
   "source": [
    "#step 1 - import all libraries for data handling, feature extraction, clustering and plotting\n",
    "import pandas as pd\n",
    "import numpy as np\n",
    "import re\n",
    "from sklearn.preprocessing import StandardScaler\n",
    "from sklearn.cluster import KMeans, DBSCAN\n",
    "from sklearn.metrics import silhouette_score\n",
    "import matplotlib.pyplot as plt"
   ]
  },
  {
   "cell_type": "code",
   "execution_count": 3,
   "id": "9608fb6d-79e6-4087-9247-79f8918d081a",
   "metadata": {},
   "outputs": [],
   "source": [
    "#2. Data Loading Functions"
   ]
  },
  {
   "cell_type": "code",
   "execution_count": 4,
   "id": "ce11bcd6-960a-4d21-931f-dad6b9bd110e",
   "metadata": {},
   "outputs": [],
   "source": [
    "#step 2 - define function to load tweets data from the Dataset folder\n",
    "def load_tweets_data():\n",
    "    #use relative path\n",
    "    tweets_data = pd.read_csv(\"../Dataset/tweets.csv\")\n",
    "    return tweets_data"
   ]
  },
  {
   "cell_type": "code",
   "execution_count": 5,
   "id": "e65fbc4e-1ecd-4979-9d6c-dabef29adcbb",
   "metadata": {},
   "outputs": [],
   "source": [
    "#step 3 - define function to load NRC emotion lexicon from the Lexicon folder\n",
    "def load_nrc_lexicon():\n",
    "    #use relative path\n",
    "    lexicon_path = \"../Lexicon/NRC-Emotion-Lexicon-Wordlevel-v0.92.txt\"\n",
    "    lexicon = {}\n",
    "    with open(lexicon_path, \"r\", encoding=\"utf-8\") as file:\n",
    "        for line in file:\n",
    "            parts = line.strip().split('\\t')\n",
    "            if len(parts) == 3:\n",
    "                word, emotion, value = parts\n",
    "                if word not in lexicon:\n",
    "                    lexicon[word] = {}\n",
    "                lexicon[word][emotion] = int(value)\n",
    "    return lexicon"
   ]
  },
  {
   "cell_type": "code",
   "execution_count": 6,
   "id": "ae4665ac-c53f-4dc7-ac79-6828c4670368",
   "metadata": {},
   "outputs": [
    {
     "name": "stdout",
     "output_type": "stream",
     "text": [
      "   id                                               link  \\\n",
      "0   0  https://twitter.com/HackneyPSC/status/17274436...   \n",
      "1   1  https://twitter.com/cherrysattitude/status/172...   \n",
      "2   2  https://twitter.com/diamoundgirls2/status/1710...   \n",
      "3   3  https://twitter.com/mmtchi/status/172764634165...   \n",
      "4   4  https://twitter.com/NoahIeeNG/status/172744319...   \n",
      "\n",
      "                                                text              date  likes  \\\n",
      "0  A statement from psychoanalytic activists:  Th...  11/22/2023 21:47      0   \n",
      "1                        bak bak bak bak doyamadınız  11/22/2023 15:27    443   \n",
      "2  Check out 🏒 35 + different ERIK KARLSSON cards...    10/7/2023 7:15      0   \n",
      "3  Il s'en passe des trucs pendant qu'on vous ori...  11/23/2023 11:12    381   \n",
      "4  AW OKAY.. WELL THATS COOL, IM SURE PAL WILL AP...  11/22/2023 21:45      0   \n",
      "\n",
      "   comments  \n",
      "0         0  \n",
      "1         9  \n",
      "2         0  \n",
      "3        44  \n",
      "4         0  \n",
      "[('aback', {'anger': 0, 'anticipation': 0, 'disgust': 0, 'fear': 0, 'joy': 0, 'negative': 0, 'positive': 0, 'sadness': 0, 'surprise': 0, 'trust': 0}), ('abacus', {'anger': 0, 'anticipation': 0, 'disgust': 0, 'fear': 0, 'joy': 0, 'negative': 0, 'positive': 0, 'sadness': 0, 'surprise': 0, 'trust': 1}), ('abandon', {'anger': 0, 'anticipation': 0, 'disgust': 0, 'fear': 1, 'joy': 0, 'negative': 1, 'positive': 0, 'sadness': 1, 'surprise': 0, 'trust': 0}), ('abandoned', {'anger': 1, 'anticipation': 0, 'disgust': 0, 'fear': 1, 'joy': 0, 'negative': 1, 'positive': 0, 'sadness': 1, 'surprise': 0, 'trust': 0}), ('abandonment', {'anger': 1, 'anticipation': 0, 'disgust': 0, 'fear': 1, 'joy': 0, 'negative': 1, 'positive': 0, 'sadness': 1, 'surprise': 1, 'trust': 0})]\n"
     ]
    }
   ],
   "source": [
    "#testing of 2. Data Loading Functions\n",
    "tweets = load_tweets_data()\n",
    "lexicon = load_nrc_lexicon()\n",
    "print(tweets.head())\n",
    "print(list(lexicon.items())[:5])"
   ]
  },
  {
   "cell_type": "code",
   "execution_count": 7,
   "id": "004b144c-10f2-4108-9af1-09c27f8f07d9",
   "metadata": {},
   "outputs": [],
   "source": [
    "#3. Data Preprocessing"
   ]
  },
  {
   "cell_type": "code",
   "execution_count": 8,
   "id": "bcef12cc-b0d1-4c2a-ae8f-7a91be1e60f4",
   "metadata": {},
   "outputs": [],
   "source": [
    "#step 1 - define function to preprocess the tweets data\n",
    "def preprocess_tweets_data(tweets_data):\n",
    "    #remove rows with missing tweets\n",
    "    tweets_data = tweets_data.dropna(subset=[\"text\"]).copy()\n",
    "    #convert text to lowercase for consistency\n",
    "    tweets_data[\"text\"] = tweets_data[\"text\"].str.lower()\n",
    "    #remove links\n",
    "    tweets_data[\"text\"] = tweets_data[\"text\"].apply(lambda x: re.sub(r\"http\\S+|www\\S+|https\\S+\", \"\", x))\n",
    "    return tweets_data"
   ]
  },
  {
   "cell_type": "code",
   "execution_count": 9,
   "id": "e5c26fd7-02a6-49fa-819a-4c93f7b82892",
   "metadata": {},
   "outputs": [
    {
     "name": "stdout",
     "output_type": "stream",
     "text": [
      "   id                                               link  \\\n",
      "0   0  https://twitter.com/HackneyPSC/status/17274436...   \n",
      "1   1  https://twitter.com/cherrysattitude/status/172...   \n",
      "2   2  https://twitter.com/diamoundgirls2/status/1710...   \n",
      "3   3  https://twitter.com/mmtchi/status/172764634165...   \n",
      "4   4  https://twitter.com/NoahIeeNG/status/172744319...   \n",
      "\n",
      "                                                text              date  likes  \\\n",
      "0  a statement from psychoanalytic activists:  th...  11/22/2023 21:47      0   \n",
      "1                        bak bak bak bak doyamadınız  11/22/2023 15:27    443   \n",
      "2  check out 🏒 35 + different erik karlsson cards...    10/7/2023 7:15      0   \n",
      "3  il s'en passe des trucs pendant qu'on vous ori...  11/23/2023 11:12    381   \n",
      "4  aw okay.. well thats cool, im sure pal will ap...  11/22/2023 21:45      0   \n",
      "\n",
      "   comments  \n",
      "0         0  \n",
      "1         9  \n",
      "2         0  \n",
      "3        44  \n",
      "4         0  \n"
     ]
    }
   ],
   "source": [
    "#testing\n",
    "tweets = load_tweets_data()\n",
    "tweets = preprocess_tweets_data(tweets)\n",
    "print(tweets.head())"
   ]
  },
  {
   "cell_type": "code",
   "execution_count": 10,
   "id": "e9f4e079-c596-4760-9810-2670190bb509",
   "metadata": {},
   "outputs": [],
   "source": [
    "#4. Feature Extraction"
   ]
  },
  {
   "cell_type": "code",
   "execution_count": 11,
   "id": "b7705ef8-0876-45ad-91ad-5d05d511f430",
   "metadata": {},
   "outputs": [],
   "source": [
    "def add_week_column(tweets_data):\n",
    "    #parse data as datetime\n",
    "    tweets_data[\"date\"] = pd.to_datetime(tweets_data[\"date\"], errors=\"coerce\")\n",
    "    tweets_data[\"year_week\"] = tweets_data[\"date\"].dt.strftime('%Y-%U')\n",
    "    return tweets_data"
   ]
  },
  {
   "cell_type": "code",
   "execution_count": 12,
   "id": "f2dae610-3676-49c7-83ce-610ba5e092f9",
   "metadata": {},
   "outputs": [],
   "source": [
    "#step 1 - extract username from twitter link\n",
    "def extract_username(link):\n",
    "    match = re.search(r\"twitter\\.com/([^/]+)/status\", str(link))\n",
    "    if match: \n",
    "        return match.group(1)\n",
    "    else:\n",
    "        return \"unknown\"\n",
    "\n",
    "#step 2 - a function to count emoji in text\n",
    "def count_emojis(text):\n",
    "    emoji_pattern = re.compile(\n",
    "    r\"[\\U0001F600-\\U0001F64F\"\n",
    "    r\"\\U0001F300-\\U0001F5FF\"\n",
    "    r\"\\U0001F680-\\U0001F6FF\"\n",
    "    r\"\\U0001F1E0-\\U0001F1FF]+\", flags=re.UNICODE)\n",
    "    return len(emoji_pattern.findall(str(text)))\n",
    "\n",
    "#step 3 - function to count hashtags\n",
    "def count_hashtags(text):\n",
    "    return len(re.findall(r\"#\\w+\", str(text)))\n",
    "\n",
    "#step 4 - function to get tweet length (num of characters)\n",
    "def get_tweet_length(text):\n",
    "    return len(str(text))\n",
    "\n",
    "#step 5 - function to count emotional words using NRC lexicon\n",
    "def count_emotion_words(text, lexicon, emotion):\n",
    "    words = str(text).split()\n",
    "    count = 0 \n",
    "    for word in words:\n",
    "        if word in lexicon and lexicon[word].get(emotion, 0) == 1:\n",
    "            count += 1\n",
    "    return count\n",
    "\n",
    "#step 6 - main function to extract all features for each tweet\n",
    "def extract_features(tweets_data, lexicon):\n",
    "    #extract username from link\n",
    "    tweets_data[\"username\"] = tweets_data[\"link\"].apply(extract_username)\n",
    "    #create feature columns for emoji, hashtags, tweet length, likes and comments\n",
    "    tweets_data[\"emoji_count\"] = tweets_data[\"text\"].apply(count_emojis)\n",
    "    tweets_data[\"hashtag_count\"] = tweets_data[\"text\"].apply(count_hashtags) \n",
    "    tweets_data[\"tweet_length\"] = tweets_data[\"text\"].apply(get_tweet_length)\n",
    "    #convert like and comment columns to numeric\n",
    "    tweets_data[\"likes\"] = pd.to_numeric(tweets_data[\"likes\"], errors=\"coerce\").fillna(0)\n",
    "    tweets_data[\"comments\"] = pd.to_numeric(tweets_data[\"comments\"], errors=\"coerce\")\n",
    "    #add NRC emotion features one column per emotion\n",
    "    emotions = [\"anger\", \"anticipation\", \"disgust\", \"fear\", \"joy\", \"sadness\", \"surprise\", \"trust\", \"positive\", \"negative\"]\n",
    "    for emotion in emotions:\n",
    "        tweets_data[f\"emotion_{emotion}_count\"] = tweets_data[\"text\"].apply(lambda x: count_emotion_words(x, lexicon, emotion))\n",
    "    return tweets_data"
   ]
  },
  {
   "cell_type": "code",
   "execution_count": 13,
   "id": "5d6bb27a-e3d3-49a5-bba0-91936a3c5547",
   "metadata": {},
   "outputs": [
    {
     "name": "stdout",
     "output_type": "stream",
     "text": [
      "          username                                               text  \\\n",
      "0       HackneyPSC  a statement from psychoanalytic activists:  th...   \n",
      "1  cherrysattitude                        bak bak bak bak doyamadınız   \n",
      "2   diamoundgirls2  check out 🏒 35 + different erik karlsson cards...   \n",
      "3           mmtchi  il s'en passe des trucs pendant qu'on vous ori...   \n",
      "4        NoahIeeNG  aw okay.. well thats cool, im sure pal will ap...   \n",
      "\n",
      "   emoji_count  hashtag_count  likes  comments  \n",
      "0            0              0      0         0  \n",
      "1            0              0    443         9  \n",
      "2            1              4      0         0  \n",
      "3            0              1    381        44  \n",
      "4            0              0      0         0  \n"
     ]
    }
   ],
   "source": [
    "#testing\n",
    "tweets = extract_features(tweets, lexicon)\n",
    "print(tweets[[\"username\", \"text\", \"emoji_count\", \"hashtag_count\", \"likes\", \"comments\"]].head())"
   ]
  },
  {
   "cell_type": "code",
   "execution_count": 14,
   "id": "73bb0e94-86a1-4dd7-b76c-74d8dbad5a85",
   "metadata": {},
   "outputs": [],
   "source": [
    "tweets = add_week_column(tweets)"
   ]
  },
  {
   "cell_type": "code",
   "execution_count": 15,
   "id": "0acc800f-717e-465d-b628-6fbfac28d61f",
   "metadata": {},
   "outputs": [],
   "source": [
    "def cap_tweet_length(tweets_data, max_length=1000):\n",
    "    tweets_data[\"tweet_length_capped\"] = tweets_data[\"tweet_length\"].clip(upper=max_length)\n",
    "    return tweets_data"
   ]
  },
  {
   "cell_type": "code",
   "execution_count": 16,
   "id": "9ea8350b-0f46-46fe-897f-b56d06eb0d12",
   "metadata": {},
   "outputs": [],
   "source": [
    "tweets = cap_tweet_length(tweets, max_length=1000)"
   ]
  },
  {
   "cell_type": "code",
   "execution_count": 17,
   "id": "96715c0a-f4c2-4da0-935b-3727aa4fbd56",
   "metadata": {},
   "outputs": [],
   "source": [
    "#5."
   ]
  },
  {
   "cell_type": "code",
   "execution_count": 18,
   "id": "5d2f4b3a-5fe2-42d2-9ddf-d07dcfcc40b9",
   "metadata": {},
   "outputs": [],
   "source": [
    "#step 1 - define function to aggregate tweet-level features to user-level\n",
    "def aggregate_weekly_features(tweets_data):\n",
    "    #group by username and year_week\n",
    "    weekly = tweets_data.groupby([\"username\", \"year_week\"]).agg({\n",
    "        \"emoji_count\": \"mean\",\n",
    "        \"hashtag_count\": \"mean\",\n",
    "        \"tweet_length_capped\": \"mean\",\n",
    "        \"emotion_anger_count\": \"mean\",\n",
    "        \"emotion_sadness_count\": \"mean\",\n",
    "        \"emotion_joy_count\": \"mean\",\n",
    "        \"text\": \"count\"\n",
    "    }).rename(columns={\"text\": \"tweet_count\"}).reset_index()\n",
    "    return weekly"
   ]
  },
  {
   "cell_type": "code",
   "execution_count": 19,
   "id": "8fc3083a-831c-4d4f-8ba4-192a7510f9f8",
   "metadata": {},
   "outputs": [
    {
     "name": "stdout",
     "output_type": "stream",
     "text": [
      "      username year_week  emoji_count  hashtag_count  tweet_length_capped  \\\n",
      "0    001Flight   2023-50          0.0            0.0                 63.0   \n",
      "1    0130Coach   2023-50          0.0            0.0                453.0   \n",
      "2       01IOTA   2023-50          0.0            0.0                280.0   \n",
      "3  021Scenario   2023-50          0.0            0.0                 40.0   \n",
      "4        06Kiu   2023-47          0.0            0.0                 73.0   \n",
      "\n",
      "   emotion_anger_count  emotion_sadness_count  emotion_joy_count  tweet_count  \n",
      "0                  0.0                    0.0                0.0            1  \n",
      "1                  1.0                    2.0                0.0            1  \n",
      "2                  2.0                    1.0                0.0            1  \n",
      "3                  0.0                    0.0                0.0            1  \n",
      "4                  0.0                    0.0                0.0            1  \n"
     ]
    }
   ],
   "source": [
    "#test\n",
    "weekly_features = aggregate_weekly_features(tweets)\n",
    "print(weekly_features.head())"
   ]
  },
  {
   "cell_type": "code",
   "execution_count": 20,
   "id": "ec313227-963a-4d4c-a152-231d8871b9b6",
   "metadata": {},
   "outputs": [],
   "source": [
    "#behaviour change score\n",
    "def calculate_behaviour_change(weekly_features):\n",
    "    #each user needs standard deviation of weekly features\n",
    "    feature_columns = [col for col in weekly_features.columns if col not in [\"username\", \"year_week\"]]\n",
    "    behaviour_change = weekly_features.groupby(\"username\")[feature_columns].std().add_suffix(\"_change_score\").reset_index()\n",
    "    return behaviour_change"
   ]
  },
  {
   "cell_type": "code",
   "execution_count": 21,
   "id": "d3fdef14-9b43-4bee-b370-7f2bcb222e4d",
   "metadata": {},
   "outputs": [],
   "source": [
    "behaviour_change = calculate_behaviour_change(weekly_features)"
   ]
  },
  {
   "cell_type": "code",
   "execution_count": 22,
   "id": "6bf815f7-1de2-4692-9ea6-b5a80481d270",
   "metadata": {},
   "outputs": [],
   "source": [
    "def summarise_user_features(weekly_features, behaviour_change):\n",
    "    feature_columns = [col for col in weekly_features.columns if col not in [\"username\", \"year_week\"]]\n",
    "    user_means = weekly_features.groupby(\"username\")[feature_columns].mean().reset_index()\n",
    "    #merge with behaviour change scores\n",
    "    user_summary = pd.merge(user_means, behaviour_change, on=\"username\", how=\"left\")\n",
    "    user_summary = user_summary.fillna(0)\n",
    "    return user_summary"
   ]
  },
  {
   "cell_type": "code",
   "execution_count": 23,
   "id": "74134c6b-3b9c-4ccb-885c-caf53940f5e6",
   "metadata": {},
   "outputs": [],
   "source": [
    "user_summary = summarise_user_features(weekly_features, behaviour_change)\n",
    "user_summary[\"tweet_length_capped\"] = user_summary[\"tweet_length_capped\"].clip(upper=1000)"
   ]
  },
  {
   "cell_type": "code",
   "execution_count": 24,
   "id": "bd8e4945-ad32-47d6-a6a0-dbdb4bc532d4",
   "metadata": {},
   "outputs": [],
   "source": [
    "#6. Feature Scaling"
   ]
  },
  {
   "cell_type": "code",
   "execution_count": 25,
   "id": "755258ea-40f7-4e47-993f-6e2a349b355d",
   "metadata": {},
   "outputs": [],
   "source": [
    "#step 1 - define function to scale user features using Standard Scaler\n",
    "def scale_features(user_features):\n",
    "    #select only numeric columns for scaling - skip \"username\" and strings columns\n",
    "    feature_columns = [col for col in user_features.columns if col not in [\"username\", \"likes\", \"comments\", \"year_week\"] and user_features[col].dtype in ['int64', 'float64']]\n",
    "    scaler = StandardScaler()\n",
    "    scaled_values = scaler.fit_transform(user_features[feature_columns])\n",
    "    #create a new DataFrame with the scaled values + skipped \"username\"\n",
    "    scaled_df = pd.DataFrame(scaled_values, columns=feature_columns)\n",
    "    scaled_df[\"username\"] = user_features[\"username\"].values\n",
    "    #add likes and comments for post-cluster analysis\n",
    "    if \"likes\" in user_features.columns:\n",
    "        scaled_df[\"likes\"] = user_features[\"likes\"].values\n",
    "    if \"comments\" in user_features.columns:\n",
    "        scaled_df[\"comments\"] = user_features[\"comments\"].values\n",
    "    #return the scaled Dataframe\n",
    "    return scaled_df"
   ]
  },
  {
   "cell_type": "code",
   "execution_count": 26,
   "id": "a251a915-cafb-447d-ba2f-ffc36c12b480",
   "metadata": {},
   "outputs": [
    {
     "name": "stdout",
     "output_type": "stream",
     "text": [
      "   emoji_count  hashtag_count  tweet_length_capped  emotion_anger_count  \\\n",
      "0    -0.222905      -0.279901            -0.890869            -0.451340   \n",
      "1    -0.222905      -0.279901             2.207283             0.401808   \n",
      "2    -0.222905      -0.279901             0.832975             1.254957   \n",
      "3    -0.222905      -0.279901            -1.073580            -0.451340   \n",
      "4    -0.222905      -0.279901            -0.811429            -0.451340   \n",
      "\n",
      "   emotion_sadness_count  emotion_joy_count  tweet_count     username  \n",
      "0              -0.445663          -0.319534    -0.247233    001Flight  \n",
      "1               1.470693          -0.319534    -0.247233    0130Coach  \n",
      "2               0.512515          -0.319534    -0.247233       01IOTA  \n",
      "3              -0.445663          -0.319534    -0.247233  021Scenario  \n",
      "4              -0.445663          -0.319534    -0.247233        06Kiu  \n"
     ]
    }
   ],
   "source": [
    "#test\n",
    "scaled_df = scale_features(weekly_features)\n",
    "print(scaled_df.head())"
   ]
  },
  {
   "cell_type": "code",
   "execution_count": 27,
   "id": "80953add-214b-4815-bff4-dca9325bb36a",
   "metadata": {},
   "outputs": [
    {
     "name": "stdout",
     "output_type": "stream",
     "text": [
      "k=2, silhouette score=0.841\n",
      "k=3, silhouette score=0.415\n",
      "k=4, silhouette score=0.422\n",
      "k=5, silhouette score=0.424\n",
      "k=6, silhouette score=0.217\n",
      "k=7, silhouette score=0.217\n",
      "k=8, silhouette score=0.353\n",
      "k=9, silhouette score=0.230\n"
     ]
    },
    {
     "data": {
      "image/png": "[encoded data removed]",
      "text/plain": [
       "<Figure size 640x480 with 1 Axes>"
      ]
     },
     "metadata": {},
     "output_type": "display_data"
    }
   ],
   "source": [
    "scaled_df = scale_features(user_summary)\n",
    "feature_columns = [col for col in scaled_df.columns if col not in [\"username\", \"kmeans_cluster\", \"dbscan_cluster\", \"likes\", \"comments\"]]\n",
    "X = scaled_df[feature_columns].values\n",
    "\n",
    "silhouette_scores = []\n",
    "k_range = range (2, 10)\n",
    "for k in k_range:\n",
    "    kmeans = KMeans(n_clusters=k, random_state=0)\n",
    "    labels = kmeans.fit_predict(X)\n",
    "    score = silhouette_score(X, labels)\n",
    "    silhouette_scores.append(score)\n",
    "    print(f\"k={k}, silhouette score={score:.3f}\")\n",
    "\n",
    "import matplotlib.pyplot as plt\n",
    "plt.plot(list(k_range), silhouette_scores, marker='o')\n",
    "plt.xlabel(\"Number of clusters (k)\")\n",
    "plt.ylabel(\"Silhouette Score\")\n",
    "plt.title(\"Silhouette Score for different k\")\n",
    "plt.show()"
   ]
  },
  {
   "cell_type": "code",
   "execution_count": 28,
   "id": "5b1309e8-7719-42ce-b6c1-2a396d2c3425",
   "metadata": {},
   "outputs": [],
   "source": [
    "#7. Clustering"
   ]
  },
  {
   "cell_type": "code",
   "execution_count": 29,
   "id": "c49cd693-624b-4b2f-8abf-a04d06ab61ad",
   "metadata": {},
   "outputs": [],
   "source": [
    "#step 1 - function to apply KMeans \n",
    "def apply_kmeans(scaled_df, num_clusters=3):\n",
    "    #selec numeric columns + skip username\n",
    "    feature_columns = scaled_df.columns.drop(\"username\")\n",
    "    #create and fit KMneans\n",
    "    kmeans = KMeans(n_clusters=num_clusters, random_state=42)\n",
    "    cluster_labels = kmeans.fit_predict(scaled_df[feature_columns])\n",
    "    #add cluster labels to dataframe\n",
    "    scaled_df[\"kmeans_cluster\"] = cluster_labels\n",
    "    #return dataframe and model\n",
    "    return scaled_df, kmeans\n",
    "\n",
    "#step 2 - function to apply DBSCAN clustering\n",
    "def apply_dbscan(scaled_df, eps=1.0, min_samples=5):\n",
    "    #select numeric columns + skip username and kmeans\n",
    "    feature_columns = scaled_df.columns.drop([\"username\", \"kmeans_cluster\"], errors=\"ignore\")\n",
    "    #create and fit DBSCAN\n",
    "    dbscan = DBSCAN(eps=eps, min_samples=min_samples)\n",
    "    dbscan_labels = dbscan.fit_predict(scaled_df[feature_columns])\n",
    "    #add cluster labels to dataframe\n",
    "    scaled_df[\"dbscan_cluster\"] = dbscan_labels\n",
    "    #return\n",
    "    return scaled_df, dbscan"
   ]
  },
  {
   "cell_type": "code",
   "execution_count": 30,
   "id": "27627afd-de60-4692-974d-25b43f2f2a93",
   "metadata": {},
   "outputs": [
    {
     "name": "stdout",
     "output_type": "stream",
     "text": [
      "      username  kmeans_cluster  dbscan_cluster\n",
      "0    001Flight               4               0\n",
      "1    0130Coach               0               0\n",
      "2       01IOTA               0               0\n",
      "3  021Scenario               4               0\n",
      "4        06Kiu               4               0\n"
     ]
    }
   ],
   "source": [
    "#testing\n",
    "#apply kmeans clustering + number of clusters\n",
    "scaled_df, kmeans = apply_kmeans(scaled_df, num_clusters=5)\n",
    "\n",
    "#apply dbscan clustering \n",
    "scaled_df, dbscan = apply_dbscan(scaled_df, eps=1.5, min_samples=5)\n",
    "\n",
    "#results\n",
    "print(scaled_df[[\"username\", \"kmeans_cluster\", \"dbscan_cluster\"]].head())"
   ]
  },
  {
   "cell_type": "code",
   "execution_count": 31,
   "id": "53fbd5b0-23b2-4a91-aa60-aa2d97f89f35",
   "metadata": {},
   "outputs": [],
   "source": [
    "#8. Evaluation"
   ]
  },
  {
   "cell_type": "code",
   "execution_count": 32,
   "id": "196608ea-cf66-487b-bbc7-126582ca4b7f",
   "metadata": {},
   "outputs": [],
   "source": [
    "#function to evaluate kmeans with silhouette score\n",
    "def evaluate_kmeans(scaled_df):\n",
    "    feature_columns = [col for col in scaled_df.columns if col not in [\"username\", \"kmeans_cluster\", \"dbscan_cluster\"]]\n",
    "    #silhouette score\n",
    "    labels = scaled_df[\"kmeans_cluster\"]\n",
    "    score = silhouette_score(scaled_df[feature_columns], labels)\n",
    "    print(\"KMeans Silhouette Score:\", round(score, 3))\n",
    "    #cluster sizes\n",
    "    print(\"KMeans Cluster Counts:\\n\", scaled_df[\"kmeans_cluster\"].value_counts())\n",
    "    #mean values per cluster\n",
    "    print(\"KMeans Feature Means per Cluster:\\n\", scaled_df.groupby(\"kmeans_cluster\")[feature_columns].mean())\n",
    "\n",
    "#fn to evaluate dbscan \n",
    "def evaluate_dbscan(scaled_df):\n",
    "    #print inclusing outliers (-1)\n",
    "    print(\"DBSCAN Cluster Counts including Outliers:\\n\", scaled_df[\"dbscan_cluster\"].value_counts())\n",
    "    #mean values per cluster\n",
    "    feature_columns = [col for col in scaled_df.columns if col not in [\"username\", \"kmeans_cluster\", \"dbscan_cluster\"]]\n",
    "    print(\"DBSCAN Feature Means per Cluster:\\n\", scaled_df.groupby(\"dbscan_cluster\")[feature_columns].mean())\n",
    "\n",
    "#plot elbow method for KMeans\n",
    "def plot_elbow_method(scaled_df, max_k=8):\n",
    "    feature_columns = [col for col in scaled_df.columns if col not in [\"username\", \"kmeans_cluster\", \"dbscan_cluster\"]]\n",
    "    inertia = []\n",
    "    k_range = range(2, max_k+1)\n",
    "    #fit KMeans for each value of k\n",
    "    for k in k_range:\n",
    "        kmeans = KMeans(n_clusters=k, random_state=0)\n",
    "        kmeans.fit(scaled_df[feature_columns])\n",
    "        inertia.append(kmeans.inertia_)\n",
    "    #elbow curve plot\n",
    "    plt.plot(list(k_range), inertia, marker='o')\n",
    "    plt.xlabel(\"Number of clusters (k)\")\n",
    "    plt.ylabel(\"Inertia\")\n",
    "    plt.title(\"Elbow Method for KMeans\")\n",
    "    plt.show()"
   ]
  },
  {
   "cell_type": "code",
   "execution_count": 33,
   "id": "2e76c8aa-749e-4777-9870-5e9fefcf4870",
   "metadata": {
    "scrolled": true
   },
   "outputs": [
    {
     "name": "stdout",
     "output_type": "stream",
     "text": [
      "KMeans Silhouette Score: 0.396\n",
      "KMeans Cluster Counts:\n",
      " kmeans_cluster\n",
      "4    8770\n",
      "0    1653\n",
      "3     209\n",
      "1      27\n",
      "2       1\n",
      "Name: count, dtype: int64\n",
      "KMeans Feature Means per Cluster:\n",
      "                 emoji_count  hashtag_count  tweet_length_capped  \\\n",
      "kmeans_cluster                                                    \n",
      "0                  0.103089       0.010987             1.052992   \n",
      "1                 -0.058195       0.043406             2.637367   \n",
      "2                 -0.216593      23.751323             6.819094   \n",
      "3                  0.330899       0.371831             0.660138   \n",
      "4                 -0.027113      -0.013774            -0.223101   \n",
      "\n",
      "                emotion_anger_count  emotion_sadness_count  emotion_joy_count  \\\n",
      "kmeans_cluster                                                                  \n",
      "0                          1.198130               1.229127           0.676587   \n",
      "1                          1.877566               1.523021           1.085441   \n",
      "2                         49.483045              52.542178          63.263526   \n",
      "3                          0.138904               0.152426           0.100171   \n",
      "4                         -0.240561              -0.245983          -0.140468   \n",
      "\n",
      "                tweet_count  emoji_count_change_score  \\\n",
      "kmeans_cluster                                          \n",
      "0                 -0.099777                 -0.075973   \n",
      "1                  0.461569                  0.671055   \n",
      "2                 -0.242083                 -0.075973   \n",
      "3                  0.988935                  3.497416   \n",
      "4                 -0.006155                 -0.071085   \n",
      "\n",
      "                hashtag_count_change_score  tweet_length_capped_change_score  \\\n",
      "kmeans_cluster                                                                 \n",
      "0                                -0.061275                         -0.106496   \n",
      "1                                 1.591627                         12.068399   \n",
      "2                                -0.061275                         -0.111406   \n",
      "3                                 2.468666                          3.224809   \n",
      "4                                -0.052175                         -0.093920   \n",
      "\n",
      "                emotion_anger_count_change_score  \\\n",
      "kmeans_cluster                                     \n",
      "0                                      -0.091825   \n",
      "1                                      13.537740   \n",
      "2                                      -0.096862   \n",
      "3                                       2.533967   \n",
      "4                                      -0.084747   \n",
      "\n",
      "                emotion_sadness_count_change_score  \\\n",
      "kmeans_cluster                                       \n",
      "0                                        -0.097941   \n",
      "1                                        13.087682   \n",
      "2                                        -0.105291   \n",
      "3                                         2.947046   \n",
      "4                                        -0.092052   \n",
      "\n",
      "                emotion_joy_count_change_score  tweet_count_change_score  \n",
      "kmeans_cluster                                                            \n",
      "0                                    -0.088217                 -0.092978  \n",
      "1                                    11.152895                  2.601673  \n",
      "2                                    -0.093205                 -0.097162  \n",
      "3                                     2.796123                  3.958635  \n",
      "4                                    -0.084333                 -0.084813  \n",
      "DBSCAN Cluster Counts including Outliers:\n",
      " dbscan_cluster\n",
      " 0    10139\n",
      "-1      521\n",
      "Name: count, dtype: int64\n",
      "DBSCAN Feature Means per Cluster:\n",
      "                 emoji_count  hashtag_count  tweet_length_capped  \\\n",
      "dbscan_cluster                                                    \n",
      "-1                 1.034369       0.774805             1.626957   \n",
      " 0                -0.053152      -0.039814            -0.083602   \n",
      "\n",
      "                emotion_anger_count  emotion_sadness_count  emotion_joy_count  \\\n",
      "dbscan_cluster                                                                  \n",
      "-1                         1.017994               0.997075           0.812921   \n",
      " 0                        -0.052310              -0.051235          -0.041773   \n",
      "\n",
      "                tweet_count  emoji_count_change_score  \\\n",
      "dbscan_cluster                                          \n",
      "-1                 0.813271                  1.478478   \n",
      " 0                -0.041791                 -0.075973   \n",
      "\n",
      "                hashtag_count_change_score  tweet_length_capped_change_score  \\\n",
      "dbscan_cluster                                                                 \n",
      "-1                                1.192446                          2.097367   \n",
      " 0                               -0.061275                         -0.107775   \n",
      "\n",
      "                emotion_anger_count_change_score  \\\n",
      "dbscan_cluster                                     \n",
      "-1                                      1.885001   \n",
      " 0                                     -0.096862   \n",
      "\n",
      "                emotion_sadness_count_change_score  \\\n",
      "dbscan_cluster                                       \n",
      "-1                                        2.049029   \n",
      " 0                                       -0.105291   \n",
      "\n",
      "                emotion_joy_count_change_score  tweet_count_change_score  \n",
      "dbscan_cluster                                                            \n",
      "-1                                    1.813831                  1.890837  \n",
      " 0                                   -0.093205                 -0.097162  \n"
     ]
    },
    {
     "data": {
      "image/png": "[encoded data removed]",
      "text/plain": [
       "<Figure size 640x480 with 1 Axes>"
      ]
     },
     "metadata": {},
     "output_type": "display_data"
    }
   ],
   "source": [
    "#check\n",
    "evaluate_kmeans(scaled_df)\n",
    "evaluate_dbscan(scaled_df)\n",
    "plot_elbow_method(scaled_df)"
   ]
  },
  {
   "cell_type": "code",
   "execution_count": 34,
   "id": "dad11ef3-446c-4f3b-8f7c-f06898fe274b",
   "metadata": {},
   "outputs": [],
   "source": [
    "#9. Plotting"
   ]
  },
  {
   "cell_type": "code",
   "execution_count": 35,
   "id": "4816a802-6544-4d48-be2f-b11bfaf15c99",
   "metadata": {},
   "outputs": [],
   "source": [
    "#function to plot cluster sizes\n",
    "def plot_cluster_sizes(scaled_df, cluster_column):\n",
    "    #num of clusters in each column\n",
    "    counts = scaled_df[cluster_column].value_counts().sort_index()\n",
    "    plt.figure(figsize=(6,4))\n",
    "    counts.plot(kind='bar')\n",
    "    plt.xlabel(\"Cluster Label\")\n",
    "    plt.ylabel(\"Number of Users\")\n",
    "    plt.title(f\"{cluster_column} Sizes\")\n",
    "    plt.show()"
   ]
  },
  {
   "cell_type": "code",
   "execution_count": 36,
   "id": "5d9ac61c-b776-4fe5-a267-c7eadf4e82e5",
   "metadata": {},
   "outputs": [
    {
     "data": {
      "image/png": "[encoded data removed]",
      "text/plain": [
       "<Figure size 600x400 with 1 Axes>"
      ]
     },
     "metadata": {},
     "output_type": "display_data"
    },
    {
     "data": {
      "image/png": "[encoded data removed]",
      "text/plain": [
       "<Figure size 600x400 with 1 Axes>"
      ]
     },
     "metadata": {},
     "output_type": "display_data"
    }
   ],
   "source": [
    "plot_cluster_sizes(scaled_df, \"kmeans_cluster\")\n",
    "plot_cluster_sizes(scaled_df, \"dbscan_cluster\")"
   ]
  },
  {
   "cell_type": "code",
   "execution_count": 37,
   "id": "6cfabdd2-9fdf-4e08-b94d-9d75d8ea5ebe",
   "metadata": {},
   "outputs": [
    {
     "name": "stdout",
     "output_type": "stream",
     "text": [
      "        tweet_count   emoji_count  hashtag_count  tweet_length_capped\n",
      "count  10660.000000  10660.000000   10660.000000         10660.000000\n",
      "mean       1.367398      0.160374       0.447501           172.397208\n",
      "std        1.517727      0.740471       1.623249           121.371203\n",
      "min        1.000000      0.000000       0.000000             0.000000\n",
      "25%        1.000000      0.000000       0.000000            86.000000\n",
      "50%        1.000000      0.000000       0.000000           159.000000\n",
      "75%        1.000000      0.000000       0.000000           245.000000\n",
      "max       84.000000     38.000000      50.000000          1000.000000\n",
      "       emotion_joy_count  emotion_anger_count  emotion_sadness_count\n",
      "count       10660.000000         10660.000000           10660.000000\n",
      "mean            0.253696             0.521421               0.459447\n",
      "std             0.802179             1.161636               1.038082\n",
      "min             0.000000             0.000000               0.000000\n",
      "25%             0.000000             0.000000               0.000000\n",
      "50%             0.000000             0.000000               0.000000\n",
      "75%             0.000000             1.000000               1.000000\n",
      "max            51.000000            58.000000              55.000000\n"
     ]
    }
   ],
   "source": [
    "print(user_summary[[\"tweet_count\", \"emoji_count\", \"hashtag_count\", \"tweet_length_capped\"]].describe())\n",
    "print(user_summary[[\"emotion_joy_count\", \"emotion_anger_count\", \"emotion_sadness_count\"]].describe())\n"
   ]
  },
  {
   "cell_type": "code",
   "execution_count": null,
   "id": "8b63d45b-23e3-4fe8-9203-c6ab22249e89",
   "metadata": {},
   "outputs": [],
   "source": []
  }
 ],
 "metadata": {
  "kernelspec": {
   "display_name": "Python [conda env:base] *",
   "language": "python",
   "name": "conda-base-py"
  },
  "language_info": {
   "codemirror_mode": {
    "name": "ipython",
    "version": 3
   },
   "file_extension": ".py",
   "mimetype": "text/x-python",
   "name": "python",
   "nbconvert_exporter": "python",
   "pygments_lexer": "ipython3",
   "version": "3.12.7"
  }
 },
 "nbformat": 4,
 "nbformat_minor": 5
}
